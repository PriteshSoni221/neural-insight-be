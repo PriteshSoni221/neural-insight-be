{
 "cells": [
  {
   "cell_type": "code",
   "execution_count": null,
   "metadata": {},
   "outputs": [],
   "source": [
    "from transformers import AutoModelForSeq2SeqLM, AutoTokenizer\n",
    "from transformers import pipeline"
   ]
  },
  {
   "cell_type": "code",
   "execution_count": 2,
   "metadata": {},
   "outputs": [],
   "source": [
    "review = \"\"\" I was a bit unsettled at first after the negative reviews, but the Asus Vivobook 15 Pro OLED equipped with AMD Ryzen 9 7940 HS and Nvidia RTX 4060 as well as 32GB RAM has consistently pleasantly surprised me.\n",
    "\n",
    "I have now tested the device quite intensively in various scenarios (web, office, image processing, gaming) for several days and have not been able to discover any really negative points so far.\n",
    "\n",
    "In particular, I did not experience any error messages or instabilities. On the contrary: Windows 11 Home runs like clockwork.\n",
    "\n",
    "The (glossy) display is razor-sharp with excellent color reproduction and viewing angle stability as well as very good maximum brightness for an OLED screen mE - working outdoors is also relatively easy. I didn't notice any flickering or anything like that.\n",
    "\n",
    "The keyboard and touchpad are pleasant to use - I would rate them as upper-mid-range. The fingerprint scanner works quickly and reliably. The webcam is nothing special, but quite ok (FullHD)\n",
    "\n",
    "The overall workmanship of the device is very solid (not “premium”, but very stable and functional).\n",
    "\n",
    "If I had to name one shortcoming, it would be the battery, which, according to my taste, could last a bit longer. After approx. 6 hours in office mode with 50% display brightness, it becomes critical. When playing, it's time to play after just over an hour on battery power.\n",
    "\n",
    "this shows me the image of a very good working all-rounder who can also play games with a cheap gaming notebook.\n",
    "\n",
    "By the way, the fans get quite loud under load in performance mode, but without unpleasant shrills or the like - it's bearable.\n",
    "In whisper mode, on the other hand, the device remains pretty quiet, with the 3D performance feeling reduced by around 40% - but this should still be enough for most purposes.\n",
    "\n",
    "I am very satisfied after a week of use and can make a clear purchase recommendation on this basis - especially if you “catch” a promotional price.\n",
    "\"\"\""
   ]
  },
  {
   "cell_type": "code",
   "execution_count": 7,
   "metadata": {},
   "outputs": [],
   "source": [
    "local_dir = \"facebook1/bart-large-cnn\"\n",
    "model_local = AutoModelForSeq2SeqLM.from_pretrained(local_dir)\n",
    "tokenizer_local = AutoTokenizer.from_pretrained(local_dir)"
   ]
  },
  {
   "cell_type": "code",
   "execution_count": 8,
   "metadata": {},
   "outputs": [],
   "source": [
    "summarizer = pipeline(task=\"summarization\", model=model_local,  device=0, tokenizer=tokenizer_local)"
   ]
  },
  {
   "cell_type": "code",
   "execution_count": 9,
   "metadata": {},
   "outputs": [
    {
     "name": "stdout",
     "output_type": "stream",
     "text": [
      "[{'summary_text': 'Asus Vivobook 15 Pro OLED equipped with AMD Ryzen 9 7940 HS and Nvidia RTX 4060 as well as 32GB RAM has consistently pleasantly surprised me. Windows 11 Home runs like clockwork.'}]\n"
     ]
    }
   ],
   "source": [
    "print(summarizer(review, max_length=230, min_length=30))"
   ]
  },
  {
   "cell_type": "code",
   "execution_count": null,
   "metadata": {},
   "outputs": [],
   "source": [
    "# Load model directly\n",
    "from transformers import AutoTokenizer, AutoModelForSeq2SeqLM\n",
    "\n",
    "tokenizer = AutoTokenizer.from_pretrained(\"facebook/bart-large-cnn\")\n",
    "model = AutoModelForSeq2SeqLM.from_pretrained(\"facebook/bart-large-cnn\")"
   ]
  },
  {
   "cell_type": "code",
   "execution_count": null,
   "metadata": {},
   "outputs": [],
   "source": [
    "tokenizer.save_pretrained(\"facebook1/bart-large-cnn\")"
   ]
  }
 ],
 "metadata": {
  "kernelspec": {
   "display_name": "Python 3",
   "language": "python",
   "name": "python3"
  },
  "language_info": {
   "codemirror_mode": {
    "name": "ipython",
    "version": 3
   },
   "file_extension": ".py",
   "mimetype": "text/x-python",
   "name": "python",
   "nbconvert_exporter": "python",
   "pygments_lexer": "ipython3",
   "version": "3.10.11"
  }
 },
 "nbformat": 4,
 "nbformat_minor": 2
}
